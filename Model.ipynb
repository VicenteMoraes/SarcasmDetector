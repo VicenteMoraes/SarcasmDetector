{
 "cells": [
  {
   "cell_type": "code",
   "execution_count": 9,
   "metadata": {
    "scrolled": true
   },
   "outputs": [],
   "source": [
    "from fastai.text import *\n",
    "import pandas as pd\n",
    "\n",
    "data = TextLMDataBunch.from_csv(\"\", \"text.csv\", delimiter='\\t', text_cols=\"text\", bs=50)\n",
    "data.save(\"data_export.pkl\")"
   ]
  },
  {
   "cell_type": "code",
   "execution_count": 12,
   "metadata": {},
   "outputs": [
    {
     "data": {
      "text/html": [
       "<table border=\"1\" class=\"dataframe\">\n",
       "  <thead>\n",
       "    <tr style=\"text-align: right;\">\n",
       "      <th>idx</th>\n",
       "      <th>text</th>\n",
       "    </tr>\n",
       "  </thead>\n",
       "  <tbody>\n",
       "    <tr>\n",
       "      <td>0</td>\n",
       "      <td>a moment with the xxmaj cut to share her thoughts on office style . xxmaj surprisingly , she was pretty ambivalent on the topic . \\n  xxbos xxup el xxup paso , xxup tx — xxmaj native xxmaj texan and chili chef xxmaj jerry xxmaj gerber , 41 , said he has been suffering a palpable sense of melancholy ever since the 17th xxmaj annual xxmaj five - xxmaj</td>\n",
       "    </tr>\n",
       "    <tr>\n",
       "      <td>1</td>\n",
       "      <td>relieved of their front - line duty and rotated to rear areas . xxmaj in many locations there would be near - constant bombardment from the enemy artillery . xxmaj snipers were omnipresent . xxmaj many a new man on the front line also learned the hard way that snipers were ready at all times to punish those foolhardy enough to peer carelessly above the xxunk . xxmaj then there</td>\n",
       "    </tr>\n",
       "    <tr>\n",
       "      <td>2</td>\n",
       "      <td>schools , etc . xxmaj we need to dismantle racism with concrete actions . xxmaj taking down the statues is one small step . xxmaj dismantling the systems and policies that directly and indirectly oppress people of color requires even bolder actions . xxmaj the world is changing . xxmaj there are those who would have us go backwards , but our ingenuity as a nation compels us to move</td>\n",
       "    </tr>\n",
       "    <tr>\n",
       "      <td>3</td>\n",
       "      <td>of xxmaj libya has descended into conflict . xxmaj the xxmaj obama administration has already been slowly targeting xxup isis in xxmaj libya . xxmaj last xxmaj november , the xxmaj pentagon said an xxmaj american military airstrike   killed the group 's former leader there . xxmaj recently , xxup u.s. and xxmaj british special operations teams have run more frequent missions into xxmaj libya to learn more about</td>\n",
       "    </tr>\n",
       "    <tr>\n",
       "      <td>4</td>\n",
       "      <td>their pants . xxmaj if you 've gained a few pounds , okay , cool . xxmaj well , not cool , but you know , life happens . xxmaj what is n't cool is how your size 12 butt squeezes in your size 8 jeans . xxmaj sure , you might get it all in there , but that \" more of you to love \" has to go</td>\n",
       "    </tr>\n",
       "  </tbody>\n",
       "</table>"
      ],
      "text/plain": [
       "<IPython.core.display.HTML object>"
      ]
     },
     "metadata": {},
     "output_type": "display_data"
    }
   ],
   "source": [
    "data.show_batch()"
   ]
  },
  {
   "cell_type": "code",
   "execution_count": 11,
   "metadata": {},
   "outputs": [
    {
     "data": {
      "text/html": [
       "<table border=\"1\" class=\"dataframe\">\n",
       "  <thead>\n",
       "    <tr style=\"text-align: left;\">\n",
       "      <th>epoch</th>\n",
       "      <th>train_loss</th>\n",
       "      <th>valid_loss</th>\n",
       "      <th>accuracy</th>\n",
       "      <th>time</th>\n",
       "    </tr>\n",
       "  </thead>\n",
       "  <tbody>\n",
       "    <tr>\n",
       "      <td>0</td>\n",
       "      <td>4.320820</td>\n",
       "      <td>4.015022</td>\n",
       "      <td>0.306862</td>\n",
       "      <td>8:45:24</td>\n",
       "    </tr>\n",
       "  </tbody>\n",
       "</table>"
      ],
      "text/plain": [
       "<IPython.core.display.HTML object>"
      ]
     },
     "metadata": {},
     "output_type": "display_data"
    }
   ],
   "source": [
    "learn = language_model_learner(data, AWD_LSTM, drop_mult=0.5)\n",
    "learn.fit_one_cycle(1, 1e-2)"
   ]
  },
  {
   "cell_type": "code",
   "execution_count": 14,
   "metadata": {},
   "outputs": [
    {
     "data": {
      "text/html": [],
      "text/plain": [
       "<IPython.core.display.HTML object>"
      ]
     },
     "metadata": {},
     "output_type": "display_data"
    },
    {
     "name": "stdout",
     "output_type": "stream",
     "text": [
      "LR Finder is complete, type {learner_name}.recorder.plot() to see the graph.\n"
     ]
    },
    {
     "data": {
      "image/png": "[encoded data removed]",
      "text/plain": [
       "<Figure size 432x288 with 1 Axes>"
      ]
     },
     "metadata": {
      "needs_background": "light"
     },
     "output_type": "display_data"
    }
   ],
   "source": [
    "learn.lr_find()\n",
    "learn.recorder.plot(skip_end=15)"
   ]
  },
  {
   "cell_type": "code",
   "execution_count": 17,
   "metadata": {},
   "outputs": [
    {
     "name": "stdout",
     "output_type": "stream",
     "text": [
      "The United States has promised to “ track people on the road , ” Ron Canny came on track to huffpost in an address to Donald Trump in 2008 and in\n",
      "The United States has promised to prove the United States never had access to the marley material . When President Donald Trump picked up this to the Supreme\n",
      "The United States has promised to contact Title IX to congratulate my first babies preventable , and make Laugh to Agenda difficult for them . Now , the child housing and\n"
     ]
    }
   ],
   "source": [
    "learn.save(\"learn1\")\n",
    "for x in range(3):\n",
    "    print(learn.predict(\"The United States has promised to\", n_words=30))"
   ]
  },
  {
   "cell_type": "code",
   "execution_count": 18,
   "metadata": {},
   "outputs": [],
   "source": [
    "learn.save(\"learn1\")\n",
    "learn.save_encoder(\"learn1_enc\")"
   ]
  },
  {
   "cell_type": "code",
   "execution_count": null,
   "metadata": {},
   "outputs": [],
   "source": []
  }
 ],
 "metadata": {
  "kernelspec": {
   "display_name": "Python 3",
   "language": "python",
   "name": "python3"
  },
  "language_info": {
   "codemirror_mode": {
    "name": "ipython",
    "version": 3
   },
   "file_extension": ".py",
   "mimetype": "text/x-python",
   "name": "python",
   "nbconvert_exporter": "python",
   "pygments_lexer": "ipython3",
   "version": "3.7.0"
  }
 },
 "nbformat": 4,
 "nbformat_minor": 2
}
