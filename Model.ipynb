{
 "cells": [
  {
   "cell_type": "code",
   "execution_count": 29,
   "metadata": {},
   "outputs": [],
   "source": [
    "import pandas as pd\n",
    "import json\n",
    "\n",
    "index = 0\n",
    "jdict = {}\n",
    "with open(\"dataset.json\", \"r\", encoding=\"utf-8\") as rf:\n",
    "        while True:\n",
    "            line = rf.readline()\n",
    "            if not line:\n",
    "                break\n",
    "            raw = json.loads(line)\n",
    "            jdict[index] = raw[\"headline\"]\n",
    "            index += 1\n",
    "\n",
    "with open(\"web_scrape.txt\", \"r\", encoding=\"utf-8\") as rf:\n",
    "    lines = rf.readlines()\n",
    "    \n",
    "for x in lines:\n",
    "    jdict[index] = x\n",
    "    index += 1\n",
    "    \n",
    "df = pd.DataFrame(jdict.items(), columns=[\"index\", \"text\"])\n",
    "df.to_csv(\"text.csv\", sep='\\t', encoding=\"utf-8\", index=False)"
   ]
  },
  {
   "cell_type": "code",
   "execution_count": 2,
   "metadata": {
    "scrolled": true
   },
   "outputs": [],
   "source": [
    "from fastai.text import *\n",
    "from fastai.metrics import *\n",
    "from fastai.callbacks import *\n",
    "\n",
    "data = TextLMDataBunch.from_csv(\"\", \"text.csv\", delimiter='\\t', text_cols=\"text\", bs=50)\n",
    "data.save(\"data_export.pkl\")"
   ]
  },
  {
   "cell_type": "code",
   "execution_count": 3,
   "metadata": {},
   "outputs": [
    {
     "data": {
      "text/html": [
       "<table border=\"1\" class=\"dataframe\">\n",
       "  <thead>\n",
       "    <tr style=\"text-align: right;\">\n",
       "      <th>idx</th>\n",
       "      <th>text</th>\n",
       "    </tr>\n",
       "  </thead>\n",
       "  <tbody>\n",
       "    <tr>\n",
       "      <td>0</td>\n",
       "      <td>, xxmaj princess xxmaj xxunk of xxmaj arabia reportedly begged her father the sultan xxmaj friday to spare xxmaj john xxmaj kerry ’s life . “ xxmaj please , xxmaj father , i love him ! ” cried the xxunk youngest daughter of the monarch as she flung her arms around the former xxmaj massachusetts senator ’s neck and refused to let go . “ xxmaj he is a good</td>\n",
       "    </tr>\n",
       "    <tr>\n",
       "      <td>1</td>\n",
       "      <td>conversation is this : a couple of weeks earlier , on a xxmaj tesla - related trip to xxmaj germany , xxmaj musk gave an interview to a xxmaj german newspaper , xxmaj xxunk . xxmaj the resulting article was published a few days before we speak , and toward its end came the following exchange , which related to xxmaj apple 's rumored move into car design and manufacturing</td>\n",
       "    </tr>\n",
       "    <tr>\n",
       "      <td>2</td>\n",
       "      <td>benazir xxmaj bhutto , i admire her tenacity and leadership to rise to the top in a country where women have few rights . xxmaj what do you want xxmaj signarama - xxmaj plano to accomplish in the next xxunk goal is to double the revenue of xxmaj signarama - xxmaj plano in the next year while adding two new employees to the team . \\n  xxbos depraved candidate</td>\n",
       "    </tr>\n",
       "    <tr>\n",
       "      <td>3</td>\n",
       "      <td>for grabs , with 24 awarded by district and 18 going to the statewide winner .   xxmaj even if xxmaj cruz wins by a small margin , he 'll automatically take all 18 state delegates and likely a good portion of district level delegates . xxmaj that would probably keep xxmaj trump below the level he needs to win a majority before the xxmaj republican convention . xxmaj of</td>\n",
       "    </tr>\n",
       "    <tr>\n",
       "      <td>4</td>\n",
       "      <td>n't real friends , according to xxmaj pope xxmaj francis . xxmaj in a speech to xxmaj american bishops on xxmaj sunday morning at   xxmaj st. xxmaj charles xxmaj borromeo xxmaj seminary , xxmaj francis said there \" are no longer close personal relationships \" and that today 's culture \" seems to encourage people not to bond with anything or anyone , not to trust . \" xxmaj</td>\n",
       "    </tr>\n",
       "  </tbody>\n",
       "</table>"
      ],
      "text/plain": [
       "<IPython.core.display.HTML object>"
      ]
     },
     "metadata": {},
     "output_type": "display_data"
    }
   ],
   "source": [
    "data.show_batch()"
   ]
  },
  {
   "cell_type": "code",
   "execution_count": 4,
   "metadata": {},
   "outputs": [],
   "source": [
    "learn = language_model_learner(data, AWD_LSTM)"
   ]
  },
  {
   "cell_type": "code",
   "execution_count": 5,
   "metadata": {},
   "outputs": [
    {
     "data": {
      "text/html": [],
      "text/plain": [
       "<IPython.core.display.HTML object>"
      ]
     },
     "metadata": {},
     "output_type": "display_data"
    },
    {
     "name": "stdout",
     "output_type": "stream",
     "text": [
      "LR Finder is complete, type {learner_name}.recorder.plot() to see the graph.\n"
     ]
    },
    {
     "data": {
      "image/png": "[encoded data removed]",
      "text/plain": [
       "<Figure size 432x288 with 1 Axes>"
      ]
     },
     "metadata": {
      "needs_background": "light"
     },
     "output_type": "display_data"
    }
   ],
   "source": [
    "learn.lr_find()\n",
    "learn.recorder.plot()"
   ]
  },
  {
   "cell_type": "code",
   "execution_count": 13,
   "metadata": {},
   "outputs": [
    {
     "data": {
      "text/html": [
       "<table border=\"1\" class=\"dataframe\">\n",
       "  <thead>\n",
       "    <tr style=\"text-align: left;\">\n",
       "      <th>epoch</th>\n",
       "      <th>train_loss</th>\n",
       "      <th>valid_loss</th>\n",
       "      <th>accuracy</th>\n",
       "      <th>time</th>\n",
       "    </tr>\n",
       "  </thead>\n",
       "  <tbody>\n",
       "    <tr>\n",
       "      <td>0</td>\n",
       "      <td>4.631464</td>\n",
       "      <td>4.234838</td>\n",
       "      <td>0.285870</td>\n",
       "      <td>20:07</td>\n",
       "    </tr>\n",
       "    <tr>\n",
       "      <td>1</td>\n",
       "      <td>4.733675</td>\n",
       "      <td>4.294957</td>\n",
       "      <td>0.281981</td>\n",
       "      <td>20:10</td>\n",
       "    </tr>\n",
       "    <tr>\n",
       "      <td>2</td>\n",
       "      <td>4.624036</td>\n",
       "      <td>4.217311</td>\n",
       "      <td>0.287929</td>\n",
       "      <td>20:11</td>\n",
       "    </tr>\n",
       "    <tr>\n",
       "      <td>3</td>\n",
       "      <td>4.494357</td>\n",
       "      <td>4.124358</td>\n",
       "      <td>0.297087</td>\n",
       "      <td>20:13</td>\n",
       "    </tr>\n",
       "    <tr>\n",
       "      <td>4</td>\n",
       "      <td>4.363595</td>\n",
       "      <td>4.096083</td>\n",
       "      <td>0.299740</td>\n",
       "      <td>20:13</td>\n",
       "    </tr>\n",
       "  </tbody>\n",
       "</table>"
      ],
      "text/plain": [
       "<IPython.core.display.HTML object>"
      ]
     },
     "metadata": {},
     "output_type": "display_data"
    },
    {
     "name": "stdout",
     "output_type": "stream",
     "text": [
      "Better model found at epoch 0 with accuracy value: 0.2858702540397644.\n",
      "Better model found at epoch 2 with accuracy value: 0.2879285216331482.\n",
      "Better model found at epoch 3 with accuracy value: 0.2970869839191437.\n",
      "Better model found at epoch 4 with accuracy value: 0.2997395098209381.\n"
     ]
    }
   ],
   "source": [
    "learn.fit_one_cycle(5, 1e-2, callbacks=[SaveModelCallback(learn, monitor=\"accuracy\", mode=\"max\")])"
   ]
  },
  {
   "cell_type": "code",
   "execution_count": 14,
   "metadata": {},
   "outputs": [
    {
     "data": {
      "text/html": [],
      "text/plain": [
       "<IPython.core.display.HTML object>"
      ]
     },
     "metadata": {},
     "output_type": "display_data"
    },
    {
     "name": "stdout",
     "output_type": "stream",
     "text": [
      "LR Finder is complete, type {learner_name}.recorder.plot() to see the graph.\n"
     ]
    },
    {
     "data": {
      "image/png": "[encoded data removed]",
      "text/plain": [
       "<Figure size 432x288 with 1 Axes>"
      ]
     },
     "metadata": {
      "needs_background": "light"
     },
     "output_type": "display_data"
    }
   ],
   "source": [
    "learn.save(\"learn-stage1\")\n",
    "learn.save_encoder(\"learn-stage1-enc\")\n",
    "learn.unfreeze()\n",
    "learn.lr_find()\n",
    "learn.recorder.plot()"
   ]
  },
  {
   "cell_type": "code",
   "execution_count": 15,
   "metadata": {},
   "outputs": [
    {
     "data": {
      "text/html": [
       "<table border=\"1\" class=\"dataframe\">\n",
       "  <thead>\n",
       "    <tr style=\"text-align: left;\">\n",
       "      <th>epoch</th>\n",
       "      <th>train_loss</th>\n",
       "      <th>valid_loss</th>\n",
       "      <th>accuracy</th>\n",
       "      <th>time</th>\n",
       "    </tr>\n",
       "  </thead>\n",
       "  <tbody>\n",
       "    <tr>\n",
       "      <td>0</td>\n",
       "      <td>4.091564</td>\n",
       "      <td>3.949857</td>\n",
       "      <td>0.316728</td>\n",
       "      <td>22:58</td>\n",
       "    </tr>\n",
       "    <tr>\n",
       "      <td>1</td>\n",
       "      <td>4.087332</td>\n",
       "      <td>3.905288</td>\n",
       "      <td>0.324736</td>\n",
       "      <td>23:01</td>\n",
       "    </tr>\n",
       "    <tr>\n",
       "      <td>2</td>\n",
       "      <td>3.962336</td>\n",
       "      <td>3.851673</td>\n",
       "      <td>0.331140</td>\n",
       "      <td>23:00</td>\n",
       "    </tr>\n",
       "    <tr>\n",
       "      <td>3</td>\n",
       "      <td>3.863927</td>\n",
       "      <td>3.810065</td>\n",
       "      <td>0.335959</td>\n",
       "      <td>22:58</td>\n",
       "    </tr>\n",
       "    <tr>\n",
       "      <td>4</td>\n",
       "      <td>3.787004</td>\n",
       "      <td>3.798714</td>\n",
       "      <td>0.337240</td>\n",
       "      <td>22:59</td>\n",
       "    </tr>\n",
       "  </tbody>\n",
       "</table>"
      ],
      "text/plain": [
       "<IPython.core.display.HTML object>"
      ]
     },
     "metadata": {},
     "output_type": "display_data"
    },
    {
     "name": "stdout",
     "output_type": "stream",
     "text": [
      "Better model found at epoch 0 with accuracy value: 0.3167283236980438.\n",
      "Better model found at epoch 1 with accuracy value: 0.3247358500957489.\n",
      "Better model found at epoch 2 with accuracy value: 0.33113959431648254.\n",
      "Better model found at epoch 3 with accuracy value: 0.33595937490463257.\n",
      "Better model found at epoch 4 with accuracy value: 0.33724039793014526.\n"
     ]
    }
   ],
   "source": [
    "learn.fit_one_cycle(5, 1e-3, callbacks=[SaveModelCallback(learn, monitor=\"accuracy\", mode=\"max\")])"
   ]
  },
  {
   "cell_type": "code",
   "execution_count": 16,
   "metadata": {},
   "outputs": [],
   "source": [
    "learn.save(\"learn-stage2\")\n",
    "learn.save_encoder(\"learn-stage2-enc\")"
   ]
  },
  {
   "cell_type": "code",
   "execution_count": 8,
   "metadata": {},
   "outputs": [
    {
     "name": "stdout",
     "output_type": "stream",
     "text": [
      "The United States has promised to skip immigration reform but as of Tuesday it is expected to strengthen it because Congress would have implemented a procedure that would 32 percent of sarah .\n",
      "The United States has promised to ban all American refugees from entering the U.S. \n",
      "  xxbos waters for president us 's hiding walls ( gas in bed four times a day ) xxbos a\n",
      "The United States has promised to find housing in available urban areas , like only children , who would use the resources they ’ve experienced through childhood programs , school districts and the American divisive\n"
     ]
    }
   ],
   "source": [
    "for x in range(3):\n",
    "    print(learn.predict(\"The United States has promised to\", n_words=30))"
   ]
  },
  {
   "cell_type": "code",
   "execution_count": null,
   "metadata": {},
   "outputs": [],
   "source": []
  }
 ],
 "metadata": {
  "kernelspec": {
   "display_name": "Python 3",
   "language": "python",
   "name": "python3"
  },
  "language_info": {
   "codemirror_mode": {
    "name": "ipython",
    "version": 3
   },
   "file_extension": ".py",
   "mimetype": "text/x-python",
   "name": "python",
   "nbconvert_exporter": "python",
   "pygments_lexer": "ipython3",
   "version": "3.7.0"
  }
 },
 "nbformat": 4,
 "nbformat_minor": 2
}
