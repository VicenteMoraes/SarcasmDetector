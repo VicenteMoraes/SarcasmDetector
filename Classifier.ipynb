{
 "cells": [
  {
   "cell_type": "code",
   "execution_count": 1,
   "metadata": {},
   "outputs": [],
   "source": [
    "import json\n",
    "import pandas as pd\n",
    "from fastai.text import *\n",
    "from fastai.callbacks import *\n",
    "from fastai.metrics import *\n",
    "\n",
    "data_lm = load_data(\"\", \"data_export.pkl\", bs=50)\n",
    "jdict = {}\n",
    "with open(\"dataset.json\", \"r\") as rf:\n",
    "        while True:\n",
    "            line = rf.readline()\n",
    "            if not line:\n",
    "                break\n",
    "            raw = json.loads(line)\n",
    "            jdict[raw[\"headline\"]] = raw[\"is_sarcastic\"]\n",
    "\n",
    "df = pd.DataFrame(jdict.items(), columns=[\"headline\", \"sarcastic\"])\n",
    "df.to_csv(\"headline_text.csv\", sep='\\t', encoding=\"utf-8\")"
   ]
  },
  {
   "cell_type": "code",
   "execution_count": 2,
   "metadata": {},
   "outputs": [],
   "source": [
    "data_classifier = TextClasDataBunch.from_csv(\"\", \"headline_text.csv\", vocab = data_lm.vocab, \n",
    "                                             text_cols=\"headline\", label_cols=\"sarcastic\", delimiter='\\t', bs=50)"
   ]
  },
  {
   "cell_type": "code",
   "execution_count": 3,
   "metadata": {},
   "outputs": [
    {
     "data": {
      "text/html": [
       "<table border=\"1\" class=\"dataframe\">\n",
       "  <thead>\n",
       "    <tr style=\"text-align: right;\">\n",
       "      <th>text</th>\n",
       "      <th>target</th>\n",
       "    </tr>\n",
       "  </thead>\n",
       "  <tbody>\n",
       "    <tr>\n",
       "      <td>xxbos ' 12 years a slave , ' ' captain phillips , ' ' american hustle , ' ' wolf of wall street , ' ' blue jasmine , ' ' dallas buyers club , ' ' her , ' ' nebraska , ' ' before midnight , ' and ' philomena ' all written during same continuing education screenwriting class</td>\n",
       "      <td>1</td>\n",
       "    </tr>\n",
       "    <tr>\n",
       "      <td>xxbos occasionally you realize someone you thought was a dear friend is actually a foe , their true character finally revealed . but how do you forgive the unforgivable ? here are my 10 steps to handling betrayal with elegance and grace .</td>\n",
       "      <td>0</td>\n",
       "    </tr>\n",
       "    <tr>\n",
       "      <td>xxbos european leaders : ' we stand together to say loud and clear : we are scared as fuck and do n't know what to do '</td>\n",
       "      <td>1</td>\n",
       "    </tr>\n",
       "    <tr>\n",
       "      <td>xxbos navy discontinues use of ' port ' and ' xxunk now refer to left as ' xxunk ' and right as ' xxunk - xxunk '</td>\n",
       "      <td>1</td>\n",
       "    </tr>\n",
       "    <tr>\n",
       "      <td>xxbos studio admits entire israeli - palestinian conflict just marketing campaign for ' you do n't mess with the xxunk ' that got out of hand</td>\n",
       "      <td>1</td>\n",
       "    </tr>\n",
       "  </tbody>\n",
       "</table>"
      ],
      "text/plain": [
       "<IPython.core.display.HTML object>"
      ]
     },
     "metadata": {},
     "output_type": "display_data"
    }
   ],
   "source": [
    "data_classifier.show_batch()"
   ]
  },
  {
   "cell_type": "code",
   "execution_count": 5,
   "metadata": {},
   "outputs": [],
   "source": [
    "learn = text_classifier_learner(data_classifier, AWD_LSTM, callback_fns=ShowGraph)\n",
    "learn.load_encoder('learn-stage2-enc')"
   ]
  },
  {
   "cell_type": "code",
   "execution_count": 6,
   "metadata": {},
   "outputs": [
    {
     "data": {
      "text/html": [],
      "text/plain": [
       "<IPython.core.display.HTML object>"
      ]
     },
     "metadata": {},
     "output_type": "display_data"
    },
    {
     "name": "stdout",
     "output_type": "stream",
     "text": [
      "LR Finder is complete, type {learner_name}.recorder.plot() to see the graph.\n"
     ]
    },
    {
     "data": {
      "image/png": "[encoded data removed]",
      "text/plain": [
       "<Figure size 432x288 with 1 Axes>"
      ]
     },
     "metadata": {
      "needs_background": "light"
     },
     "output_type": "display_data"
    }
   ],
   "source": [
    "learn.lr_find()\n",
    "learn.recorder.plot()"
   ]
  },
  {
   "cell_type": "code",
   "execution_count": 7,
   "metadata": {},
   "outputs": [
    {
     "data": {
      "text/html": [
       "<table border=\"1\" class=\"dataframe\">\n",
       "  <thead>\n",
       "    <tr style=\"text-align: left;\">\n",
       "      <th>epoch</th>\n",
       "      <th>train_loss</th>\n",
       "      <th>valid_loss</th>\n",
       "      <th>accuracy</th>\n",
       "      <th>time</th>\n",
       "    </tr>\n",
       "  </thead>\n",
       "  <tbody>\n",
       "    <tr>\n",
       "      <td>0</td>\n",
       "      <td>0.613079</td>\n",
       "      <td>0.568831</td>\n",
       "      <td>0.692539</td>\n",
       "      <td>00:11</td>\n",
       "    </tr>\n",
       "    <tr>\n",
       "      <td>1</td>\n",
       "      <td>0.601769</td>\n",
       "      <td>0.573398</td>\n",
       "      <td>0.693291</td>\n",
       "      <td>00:10</td>\n",
       "    </tr>\n",
       "    <tr>\n",
       "      <td>2</td>\n",
       "      <td>0.610570</td>\n",
       "      <td>0.564039</td>\n",
       "      <td>0.679759</td>\n",
       "      <td>00:11</td>\n",
       "    </tr>\n",
       "    <tr>\n",
       "      <td>3</td>\n",
       "      <td>0.602495</td>\n",
       "      <td>0.561824</td>\n",
       "      <td>0.694418</td>\n",
       "      <td>00:10</td>\n",
       "    </tr>\n",
       "    <tr>\n",
       "      <td>4</td>\n",
       "      <td>0.595474</td>\n",
       "      <td>0.545885</td>\n",
       "      <td>0.707198</td>\n",
       "      <td>00:10</td>\n",
       "    </tr>\n",
       "    <tr>\n",
       "      <td>5</td>\n",
       "      <td>0.604183</td>\n",
       "      <td>0.562624</td>\n",
       "      <td>0.702875</td>\n",
       "      <td>00:11</td>\n",
       "    </tr>\n",
       "    <tr>\n",
       "      <td>6</td>\n",
       "      <td>0.602081</td>\n",
       "      <td>0.563641</td>\n",
       "      <td>0.706070</td>\n",
       "      <td>00:10</td>\n",
       "    </tr>\n",
       "    <tr>\n",
       "      <td>7</td>\n",
       "      <td>0.590725</td>\n",
       "      <td>0.545927</td>\n",
       "      <td>0.702124</td>\n",
       "      <td>00:11</td>\n",
       "    </tr>\n",
       "    <tr>\n",
       "      <td>8</td>\n",
       "      <td>0.601956</td>\n",
       "      <td>0.541931</td>\n",
       "      <td>0.712084</td>\n",
       "      <td>00:11</td>\n",
       "    </tr>\n",
       "    <tr>\n",
       "      <td>9</td>\n",
       "      <td>0.604973</td>\n",
       "      <td>0.543594</td>\n",
       "      <td>0.712648</td>\n",
       "      <td>00:11</td>\n",
       "    </tr>\n",
       "    <tr>\n",
       "      <td>10</td>\n",
       "      <td>0.587904</td>\n",
       "      <td>0.530039</td>\n",
       "      <td>0.721481</td>\n",
       "      <td>00:11</td>\n",
       "    </tr>\n",
       "    <tr>\n",
       "      <td>11</td>\n",
       "      <td>0.584843</td>\n",
       "      <td>0.528917</td>\n",
       "      <td>0.722233</td>\n",
       "      <td>00:10</td>\n",
       "    </tr>\n",
       "    <tr>\n",
       "      <td>12</td>\n",
       "      <td>0.593484</td>\n",
       "      <td>0.535209</td>\n",
       "      <td>0.713024</td>\n",
       "      <td>00:10</td>\n",
       "    </tr>\n",
       "    <tr>\n",
       "      <td>13</td>\n",
       "      <td>0.591123</td>\n",
       "      <td>0.533012</td>\n",
       "      <td>0.718286</td>\n",
       "      <td>00:11</td>\n",
       "    </tr>\n",
       "    <tr>\n",
       "      <td>14</td>\n",
       "      <td>0.588411</td>\n",
       "      <td>0.540796</td>\n",
       "      <td>0.706070</td>\n",
       "      <td>00:11</td>\n",
       "    </tr>\n",
       "    <tr>\n",
       "      <td>15</td>\n",
       "      <td>0.579806</td>\n",
       "      <td>0.524443</td>\n",
       "      <td>0.724676</td>\n",
       "      <td>00:11</td>\n",
       "    </tr>\n",
       "    <tr>\n",
       "      <td>16</td>\n",
       "      <td>0.575824</td>\n",
       "      <td>0.522068</td>\n",
       "      <td>0.726367</td>\n",
       "      <td>00:10</td>\n",
       "    </tr>\n",
       "    <tr>\n",
       "      <td>17</td>\n",
       "      <td>0.560883</td>\n",
       "      <td>0.523187</td>\n",
       "      <td>0.724112</td>\n",
       "      <td>00:10</td>\n",
       "    </tr>\n",
       "    <tr>\n",
       "      <td>18</td>\n",
       "      <td>0.577611</td>\n",
       "      <td>0.520711</td>\n",
       "      <td>0.724864</td>\n",
       "      <td>00:10</td>\n",
       "    </tr>\n",
       "    <tr>\n",
       "      <td>19</td>\n",
       "      <td>0.582552</td>\n",
       "      <td>0.521669</td>\n",
       "      <td>0.726555</td>\n",
       "      <td>00:11</td>\n",
       "    </tr>\n",
       "  </tbody>\n",
       "</table>"
      ],
      "text/plain": [
       "<IPython.core.display.HTML object>"
      ]
     },
     "metadata": {},
     "output_type": "display_data"
    },
    {
     "data": {
      "image/png": "[encoded data removed]",
      "text/plain": [
       "<Figure size 432x288 with 1 Axes>"
      ]
     },
     "metadata": {},
     "output_type": "display_data"
    },
    {
     "name": "stdout",
     "output_type": "stream",
     "text": [
      "Better model found at epoch 0 with accuracy value: 0.6925389766693115.\n",
      "Better model found at epoch 1 with accuracy value: 0.6932907104492188.\n",
      "Better model found at epoch 3 with accuracy value: 0.6944183707237244.\n",
      "Better model found at epoch 4 with accuracy value: 0.707197904586792.\n",
      "Better model found at epoch 8 with accuracy value: 0.712084174156189.\n",
      "Better model found at epoch 9 with accuracy value: 0.7126479744911194.\n",
      "Better model found at epoch 10 with accuracy value: 0.7214809060096741.\n",
      "Better model found at epoch 11 with accuracy value: 0.7222326397895813.\n",
      "Better model found at epoch 15 with accuracy value: 0.7246758341789246.\n",
      "Better model found at epoch 16 with accuracy value: 0.7263672351837158.\n",
      "Better model found at epoch 19 with accuracy value: 0.7265551686286926.\n"
     ]
    }
   ],
   "source": [
    "learn.fit_one_cycle(20, 1e-2, callbacks=[SaveModelCallback(learn, monitor=\"accuracy\", mode=\"max\")])"
   ]
  },
  {
   "cell_type": "code",
   "execution_count": 7,
   "metadata": {},
   "outputs": [
    {
     "data": {
      "text/html": [
       "<table border=\"1\" class=\"dataframe\">\n",
       "  <thead>\n",
       "    <tr style=\"text-align: left;\">\n",
       "      <th>epoch</th>\n",
       "      <th>train_loss</th>\n",
       "      <th>valid_loss</th>\n",
       "      <th>accuracy</th>\n",
       "      <th>time</th>\n",
       "    </tr>\n",
       "  </thead>\n",
       "  <tbody>\n",
       "    <tr>\n",
       "      <td>0</td>\n",
       "      <td>0.305915</td>\n",
       "      <td>0.238700</td>\n",
       "      <td>0.898891</td>\n",
       "      <td>13:00</td>\n",
       "    </tr>\n",
       "  </tbody>\n",
       "</table>"
      ],
      "text/plain": [
       "<IPython.core.display.HTML object>"
      ]
     },
     "metadata": {},
     "output_type": "display_data"
    },
    {
     "name": "stdout",
     "output_type": "stream",
     "text": [
      "Better model found at epoch 0 with accuracy value: 0.8988912105560303.\n"
     ]
    }
   ],
   "source": [
    "learn.unfreeze()\n",
    "learn.fit_one_cycle(1, 1e-3, callbacks=[SaveModelCallback(learn, monitor=\"accuracy\", mode=\"max\")])\n",
    "learn.save_encoder(\"learn0_clas_enc\")"
   ]
  },
  {
   "cell_type": "code",
   "execution_count": 8,
   "metadata": {},
   "outputs": [
    {
     "data": {
      "text/html": [
       "<table border=\"1\" class=\"dataframe\">\n",
       "  <thead>\n",
       "    <tr style=\"text-align: left;\">\n",
       "      <th>epoch</th>\n",
       "      <th>train_loss</th>\n",
       "      <th>valid_loss</th>\n",
       "      <th>accuracy</th>\n",
       "      <th>time</th>\n",
       "    </tr>\n",
       "  </thead>\n",
       "  <tbody>\n",
       "    <tr>\n",
       "      <td>0</td>\n",
       "      <td>0.256126</td>\n",
       "      <td>0.222245</td>\n",
       "      <td>0.906972</td>\n",
       "      <td>13:03</td>\n",
       "    </tr>\n",
       "    <tr>\n",
       "      <td>1</td>\n",
       "      <td>0.240364</td>\n",
       "      <td>0.240739</td>\n",
       "      <td>0.900019</td>\n",
       "      <td>14:46</td>\n",
       "    </tr>\n",
       "    <tr>\n",
       "      <td>2</td>\n",
       "      <td>0.222044</td>\n",
       "      <td>0.328980</td>\n",
       "      <td>0.865251</td>\n",
       "      <td>13:22</td>\n",
       "    </tr>\n",
       "    <tr>\n",
       "      <td>3</td>\n",
       "      <td>0.215266</td>\n",
       "      <td>0.374131</td>\n",
       "      <td>0.865251</td>\n",
       "      <td>13:42</td>\n",
       "    </tr>\n",
       "    <tr>\n",
       "      <td>4</td>\n",
       "      <td>0.210453</td>\n",
       "      <td>0.499379</td>\n",
       "      <td>0.801729</td>\n",
       "      <td>14:25</td>\n",
       "    </tr>\n",
       "    <tr>\n",
       "      <td>5</td>\n",
       "      <td>0.191175</td>\n",
       "      <td>0.378148</td>\n",
       "      <td>0.844014</td>\n",
       "      <td>15:32</td>\n",
       "    </tr>\n",
       "    <tr>\n",
       "      <td>6</td>\n",
       "      <td>0.205823</td>\n",
       "      <td>0.377707</td>\n",
       "      <td>0.855102</td>\n",
       "      <td>17:49</td>\n",
       "    </tr>\n",
       "    <tr>\n",
       "      <td>7</td>\n",
       "      <td>0.163929</td>\n",
       "      <td>0.415936</td>\n",
       "      <td>0.843075</td>\n",
       "      <td>24:18</td>\n",
       "    </tr>\n",
       "    <tr>\n",
       "      <td>8</td>\n",
       "      <td>0.193239</td>\n",
       "      <td>0.453186</td>\n",
       "      <td>0.832738</td>\n",
       "      <td>25:25</td>\n",
       "    </tr>\n",
       "    <tr>\n",
       "      <td>9</td>\n",
       "      <td>0.157824</td>\n",
       "      <td>0.463357</td>\n",
       "      <td>0.841195</td>\n",
       "      <td>26:15</td>\n",
       "    </tr>\n",
       "    <tr>\n",
       "      <td>10</td>\n",
       "      <td>0.144471</td>\n",
       "      <td>0.477277</td>\n",
       "      <td>0.833114</td>\n",
       "      <td>33:34</td>\n",
       "    </tr>\n",
       "    <tr>\n",
       "      <td>11</td>\n",
       "      <td>0.146528</td>\n",
       "      <td>0.443424</td>\n",
       "      <td>0.838752</td>\n",
       "      <td>32:39</td>\n",
       "    </tr>\n",
       "    <tr>\n",
       "      <td>12</td>\n",
       "      <td>0.140049</td>\n",
       "      <td>0.473170</td>\n",
       "      <td>0.841383</td>\n",
       "      <td>32:51</td>\n",
       "    </tr>\n",
       "    <tr>\n",
       "      <td>13</td>\n",
       "      <td>0.120933</td>\n",
       "      <td>0.484491</td>\n",
       "      <td>0.839880</td>\n",
       "      <td>34:43</td>\n",
       "    </tr>\n",
       "    <tr>\n",
       "      <td>14</td>\n",
       "      <td>0.110456</td>\n",
       "      <td>0.521015</td>\n",
       "      <td>0.837624</td>\n",
       "      <td>28:29</td>\n",
       "    </tr>\n",
       "    <tr>\n",
       "      <td>15</td>\n",
       "      <td>0.095222</td>\n",
       "      <td>0.473677</td>\n",
       "      <td>0.841195</td>\n",
       "      <td>29:59</td>\n",
       "    </tr>\n",
       "    <tr>\n",
       "      <td>16</td>\n",
       "      <td>0.102183</td>\n",
       "      <td>0.467054</td>\n",
       "      <td>0.846269</td>\n",
       "      <td>28:40</td>\n",
       "    </tr>\n",
       "    <tr>\n",
       "      <td>17</td>\n",
       "      <td>0.093135</td>\n",
       "      <td>0.487034</td>\n",
       "      <td>0.845330</td>\n",
       "      <td>23:27</td>\n",
       "    </tr>\n",
       "    <tr>\n",
       "      <td>18</td>\n",
       "      <td>0.088108</td>\n",
       "      <td>0.506014</td>\n",
       "      <td>0.846645</td>\n",
       "      <td>26:47</td>\n",
       "    </tr>\n",
       "    <tr>\n",
       "      <td>19</td>\n",
       "      <td>0.083463</td>\n",
       "      <td>0.512305</td>\n",
       "      <td>0.845706</td>\n",
       "      <td>26:44</td>\n",
       "    </tr>\n",
       "  </tbody>\n",
       "</table>"
      ],
      "text/plain": [
       "<IPython.core.display.HTML object>"
      ]
     },
     "metadata": {},
     "output_type": "display_data"
    },
    {
     "name": "stdout",
     "output_type": "stream",
     "text": [
      "Better model found at epoch 0 with accuracy value: 0.906972348690033.\n"
     ]
    }
   ],
   "source": [
    "learn.unfreeze()\n",
    "learn.fit_one_cycle(20, 1e-2, callbacks=[SaveModelCallback(learn, monitor=\"accuracy\", mode=\"max\")])"
   ]
  },
  {
   "cell_type": "code",
   "execution_count": 9,
   "metadata": {},
   "outputs": [],
   "source": [
    "learn.save_encoder(\"learn_clas1_enc\")"
   ]
  },
  {
   "cell_type": "code",
   "execution_count": 22,
   "metadata": {},
   "outputs": [
    {
     "data": {
      "text/plain": [
       "(Category 1, tensor(1), tensor([0.2970, 0.7030]))"
      ]
     },
     "execution_count": 22,
     "metadata": {},
     "output_type": "execute_result"
    }
   ],
   "source": [
    "learn.predict(\"Man Annoyed At Being Mistaken For Employee Just Because He Driving Forklift Through Store\")"
   ]
  },
  {
   "cell_type": "code",
   "execution_count": null,
   "metadata": {},
   "outputs": [],
   "source": []
  }
 ],
 "metadata": {
  "kernelspec": {
   "display_name": "Python 3",
   "language": "python",
   "name": "python3"
  },
  "language_info": {
   "codemirror_mode": {
    "name": "ipython",
    "version": 3
   },
   "file_extension": ".py",
   "mimetype": "text/x-python",
   "name": "python",
   "nbconvert_exporter": "python",
   "pygments_lexer": "ipython3",
   "version": "3.7.0"
  }
 },
 "nbformat": 4,
 "nbformat_minor": 2
}
